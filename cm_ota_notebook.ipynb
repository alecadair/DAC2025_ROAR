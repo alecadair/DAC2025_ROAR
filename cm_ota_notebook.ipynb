{
 "cells": [
  {
   "cell_type": "code",
   "execution_count": null,
   "id": "de4c7807-c4be-4181-9efc-e56d32f018bf",
   "metadata": {},
   "outputs": [],
   "source": [
    "#\n",
    "# Jupyter Notebook for 8 Transistor N-Input Current Mirror OTA \n",
    "# Design with C/ID-ROAR (Robust Optimal Analog Reuse) Implementation authored by Alec S. Adair\n",
    "# ROAR provides lookup tables (LUTs), interpolated lookup functionality and characterization scripts to generate lookup tables\n",
    "#   - LUTs are stored in Pandas Dataframes\n",
    "#   - ROAR source code is provided in $ROAR_HOME/src/cid.py\n",
    "# Author: Alec S. Adair\n",
    "# Turku, Finland Nov. 2024\n",
    "#\n",
    "\n",
    "# The default design uses the Skywater 130A Process Technology with 500 nm length devices\n",
    "# This can be easily changed \n",
    "\n",
    "# The default specification table for the OTA \n",
    "# Gain-Bandwidth Product GBW [Hz]: 100Mhz\n",
    "# Phase Margin PM [°]: > 60\n",
    "# DC Gain Av: > 34dB\n",
    "\n",
    "# Import needed libraries and set matplotlib settings for plotting\n",
    "import sys, os, getpass, shutil, operator, collections, copy, re, math\n",
    "import matplotlib.ticker as mticker\n",
    "from matplotlib.ticker import LogLocator\n",
    "from matplotlib.colors import LogNorm\n",
    "from matplotlib.font_manager import FontProperties\n",
    "plt.rcParams['svg.fonttype'] = 'none'\n",
    "# Set environmental variables to point to ROAR installation\n",
    "# ROAR_HOME contains the installation location for the ROAR (Robust Optimal Analog Reuse) software\n",
    "\n",
    "ROAR_HOME = os.environ[\"ROAR_HOME\"]\n",
    "ROAR_LIB = os.environ[\"ROAR_LIB\"]\n",
    "ROAR_SRC = os.environ[\"ROAR_SRC\"]\n",
    "ROAR_CHARACTERIZATION = os.environ[\"ROAR_CHARACTERIZATION\"]\n",
    "ROAR_DESIGN = os.environ[\"ROAR_DESIGN\"]\n",
    "sys.path.append(ROAR_SRC)\n",
    "from cid import *\n"
   ]
  }
 ],
 "metadata": {
  "kernelspec": {
   "display_name": "Python 3 (ipykernel)",
   "language": "python",
   "name": "python3"
  },
  "language_info": {
   "codemirror_mode": {
    "name": "ipython",
    "version": 3
   },
   "file_extension": ".py",
   "mimetype": "text/x-python",
   "name": "python",
   "nbconvert_exporter": "python",
   "pygments_lexer": "ipython3",
   "version": "3.10.12"
  }
 },
 "nbformat": 4,
 "nbformat_minor": 5
}
